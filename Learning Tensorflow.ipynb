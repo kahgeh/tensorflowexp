{
 "cells": [
  {
   "cell_type": "markdown",
   "metadata": {},
   "source": [
    "# Tensorflow Hello World"
   ]
  },
  {
   "cell_type": "code",
   "execution_count": 19,
   "metadata": {},
   "outputs": [
    {
     "name": "stdout",
     "output_type": "stream",
     "text": [
      "sum(x) :600\n",
      "prod(y): 6\n",
      "final_div: 100\n"
     ]
    }
   ],
   "source": [
    "import tensorflow as tf\n",
    "\n",
    "x= tf.constant([100,200,300], name='x')\n",
    "y=tf.constant([1,2,3],name='y')\n",
    "sum_x=tf.reduce_sum(x,name='sum_x')\n",
    "prod_y=tf.reduce_prod(y,name='prod_y')\n",
    "final_div=tf.div(sum_x,prod_y,name='final_div')\n",
    "\n",
    "sess=tf.Session()\n",
    "print (\"sum(x) :{}\".format( sess.run(sum_x) ))\n",
    "print (\"prod(y): {}\".format( sess.run(prod_y)))\n",
    "print (\"final_div: {}\".format( sess.run(final_div)))\n",
    "\n",
    "writer = tf.summary.FileWriter('./tbout/example',sess.graph)\n",
    "sess.close()"
   ]
  },
  {
   "cell_type": "markdown",
   "metadata": {},
   "source": [
    "# Constant, placeholder and session\n",
    "\n",
    "Setup non-changing values by using tf.constant(self explanatory) and tf.placeholder( a place holder whose values will be passed in via feed_dict in session.run. Values passed in for tf.placeholder cannot be change during the session.\n",
    "\n",
    "A debugging and visualization tool tensor board can be used by first writing the session graph into a folder like this :\n",
    "\n",
    "`writer = tf.summary.FileWriter('./another',sess.graph)`\n",
    "\n",
    "and then running tensorboard : \n",
    " `tensorboard --logdir=another`"
   ]
  },
  {
   "cell_type": "code",
   "execution_count": 17,
   "metadata": {},
   "outputs": [
    {
     "name": "stdout",
     "output_type": "stream",
     "text": [
      "Intermediate result: Wx = [  30 3300]\n",
      "Final result Wx+b [  57 5009]\n",
      "Intermediate specified : Wx+b = [  1007 100009]\n",
      "Two results [Wx + b], x-b  [array([  57, 5009], dtype=int32), array([-2, 41], dtype=int32)]\n"
     ]
    }
   ],
   "source": [
    "import tensorflow as tf\n",
    "\n",
    "W=tf.constant([10,100], name='const_W')\n",
    "x=tf.placeholder(tf.int32, name='x')\n",
    "b=tf.placeholder(tf.int32,name='b')\n",
    "\n",
    "Wx=tf.multiply(W,x,name='Wx')\n",
    "y=tf.add(Wx,b,name='y')\n",
    "\n",
    "y_=tf.subtract(x,b,name='y_')\n",
    "\n",
    "with tf.Session() as sess:\n",
    "    print('Intermediate result: Wx =', sess.run(Wx, feed_dict={x:[3,33]}))\n",
    "    \n",
    "    print('Final result Wx+b', sess.run(y, feed_dict={x:[5,50], b:[7,9]}))\n",
    "    \n",
    "    print('Intermediate specified : Wx+b =',sess.run(fetches=y, feed_dict={x:[100,1000],b:[7,9]}))\n",
    "    \n",
    "    print('Two results [Wx + b], x-b ', sess.run(fetches=[y,y_],feed_dict={x:[5,50], b:[7,9]}) )\n",
    "    \n",
    "writer = tf.summary.FileWriter('./tbout/another',sess.graph)\n",
    "writer.close()"
   ]
  },
  {
   "cell_type": "markdown",
   "metadata": {},
   "source": [
    "# Variables\n",
    "\n",
    "There is usually a need to use variables that can be updated, `tf.Variable` provide for this.\n",
    "\n",
    "Variables can only be used after initialization , \n",
    "\n",
    "1. Get initialization function\n",
    "specifying variable names - `init=tf.variables_initializer([number,multiplier])` \n",
    "global - `init=tf.global_variables_initializer()`\n",
    "\n",
    "2. Running the initialization function in a session\n",
    "    `sess.run(init)`\n",
    "    \n"
   ]
  },
  {
   "cell_type": "code",
   "execution_count": 20,
   "metadata": {},
   "outputs": [
    {
     "name": "stdout",
     "output_type": "stream",
     "text": [
      "Result number * mutiplier = 6\n",
      "Increment multiplier, new value=4\n",
      "Result number * mutiplier = 8\n",
      "Increment multiplier, new value=5\n",
      "Result number * mutiplier = 10\n",
      "Increment multiplier, new value=6\n",
      "Result number * mutiplier = 12\n",
      "Increment multiplier, new value=7\n",
      "Result number * mutiplier = 14\n",
      "Increment multiplier, new value=8\n",
      "Result number * mutiplier = 16\n",
      "Increment multiplier, new value=9\n",
      "Result number * mutiplier = 18\n",
      "Increment multiplier, new value=10\n",
      "Result number * mutiplier = 20\n",
      "Increment multiplier, new value=11\n",
      "Result number * mutiplier = 22\n",
      "Increment multiplier, new value=12\n",
      "Result number * mutiplier = 24\n",
      "Increment multiplier, new value=13\n"
     ]
    }
   ],
   "source": [
    "import tensorflow as tf\n",
    "\n",
    "number = tf.Variable(2)\n",
    "multiplier=tf.Variable(3)\n",
    "init=tf.variables_initializer([number,multiplier])\n",
    "result=tf.multiply(number,multiplier,name='result')\n",
    "\n",
    "with tf.Session() as sess:\n",
    "        sess.run(init)\n",
    "        for i in range(10):\n",
    "            print(\"Result number * mutiplier = {}\".format(sess.run(result)))\n",
    "            print(\"Increment multiplier, new value={}\".format(sess.run(multiplier.assign(multiplier+1))))\n",
    "            \n",
    "            "
   ]
  },
  {
   "cell_type": "markdown",
   "metadata": {},
   "source": [
    "# Named Scope\n",
    "\n",
    "Instead of using cluttered graph like below:\n",
    "```\n",
    "    Ax2_1=tf.multiply(A,tf.pow(x,2),name='Ax2_1')\n",
    "    Bx=tf.mutiply(B,x, name='Bx')\n",
    "    y1=tf.add_n([Ax2_1,Bx],name='y1')\n",
    "\n",
    "    Ax2_2=tf.multiply(A,tf.pow(x,2),name='Ax2_2')\n",
    "    Bx=tf.mutiply(B,x, name='Bx')\n",
    "    y2=tf.add_n([Ax2_2,Bx],name='y2')\n",
    "\n",
    "    y=y1+y2\n",
    "```\n",
    "\n",
    "group operations using named scope like the code below(notice it's possible to reuse the name Ax2 in different named scope) "
   ]
  },
  {
   "cell_type": "code",
   "execution_count": 29,
   "metadata": {},
   "outputs": [
    {
     "name": "stdout",
     "output_type": "stream",
     "text": [
      "[880]\n"
     ]
    }
   ],
   "source": [
    "import tensorflow as tf\n",
    "\n",
    "A=tf.constant([4],tf.int32, name='A')\n",
    "B=tf.constant([4],tf.int32, name='B')\n",
    "C=tf.constant([4],tf.int32, name='C')\n",
    "\n",
    "x=tf.placeholder(tf.int32, name='x')\n",
    "\n",
    "with tf.name_scope('Equation_1'):\n",
    "    Ax2=tf.multiply(A,tf.pow(x,2),name='Ax2')\n",
    "    Bx=tf.multiply(B,x, name='Bx')\n",
    "    y1=tf.add_n([Ax2,Bx],name='y1')\n",
    "    \n",
    "with tf.name_scope('Equation_2'):\n",
    "    Ax2=tf.multiply(A,tf.pow(x,2),name='Ax2')\n",
    "    Bx=tf.multiply(B,x, name='Bx')\n",
    "    y2=tf.add_n([Ax2,Bx],name='y2')\n",
    "      \n",
    "with tf.name_scope('Final_sum'):\n",
    "    y=y1+y2\n",
    "    \n",
    "with tf.Session() as sess:\n",
    "    print(sess.run(y, feed_dict={x:[10]}))\n",
    "    \n",
    "writer = tf.summary.FileWriter('./tbout/unclutterGrapWithNamedScope',sess.graph)\n",
    "writer.close()"
   ]
  },
  {
   "cell_type": "markdown",
   "metadata": {},
   "source": [
    "# Graph \n",
    "\n",
    "It's possible to have multiple graphs. e.g.\n",
    "\n",
    "```\n",
    "    g1=tf.Graph()\n",
    "    \n",
    "    with g1.as_default():\n",
    "        with tf.Session() as sess:\n",
    "```"
   ]
  },
  {
   "cell_type": "markdown",
   "metadata": {},
   "source": [
    "# Interactive Session\n",
    "\n",
    "Instead of using a session variable, we can use an interactive session especially within the python repl. For example :\n"
   ]
  },
  {
   "cell_type": "code",
   "execution_count": 31,
   "metadata": {},
   "outputs": [
    {
     "data": {
      "text/plain": [
       "36"
      ]
     },
     "execution_count": 31,
     "metadata": {},
     "output_type": "execute_result"
    }
   ],
   "source": [
    "import tensorflow as tf\n",
    "sess=tf.InteractiveSession()\n",
    "\n",
    "A = tf.placeholder(tf.int32, name='A')\n",
    "\n",
    "y = A**2\n",
    "\n",
    "y.eval(feed_dict={A:6})"
   ]
  },
  {
   "cell_type": "markdown",
   "metadata": {},
   "source": [
    "# Application - Simple machine learning, linear regression\n",
    "\n",
    "Basically minimize loss using a gradient descent optimizer"
   ]
  },
  {
   "cell_type": "code",
   "execution_count": 15,
   "metadata": {},
   "outputs": [
    {
     "name": "stdout",
     "output_type": "stream",
     "text": [
      "W:[-0.9999969], b:[ 0.99999082], loss:5.699973826267524e-11\n"
     ]
    }
   ],
   "source": [
    "import tensorflow as tf\n",
    "\n",
    "W=tf.Variable([.3],name='W',dtype=tf.float32)\n",
    "b=tf.Variable([-.3],name='b',dtype=tf.float32)\n",
    "\n",
    "x=tf.placeholder(tf.float32, name='x')\n",
    "y=tf.placeholder(tf.float32, name='y')\n",
    "\n",
    "model=W*x+b\n",
    "loss=tf.reduce_sum(tf.square(model-y))\n",
    "optimizer=tf.train.GradientDescentOptimizer(0.01)\n",
    "fit=optimizer.minimize(loss)\n",
    "\n",
    "x_train=[1,2,3,4]\n",
    "y_train=[0,-1,-2,-3]\n",
    "init= tf.global_variables_initializer()\n",
    "with tf.Session() as sess:\n",
    "    sess.run(init)    \n",
    "    for i in range(1000):\n",
    "        sess.run(fit,feed_dict={x:x_train,y:y_train})\n",
    "    \n",
    "    curr_W,curr_b,loss=sess.run([W,b,loss],feed_dict={x:x_train,y:y_train})\n",
    "    print(\"W:{}, b:{}, loss:{}\".format( curr_W,curr_b,loss))    \n",
    "writer = tf.summary.FileWriter('./tbout/linearRegression',sess.graph)\n",
    "writer.close()"
   ]
  }
 ],
 "metadata": {
  "kernelspec": {
   "display_name": "Python 3",
   "language": "python",
   "name": "python3"
  },
  "language_info": {
   "codemirror_mode": {
    "name": "ipython",
    "version": 3
   },
   "file_extension": ".py",
   "mimetype": "text/x-python",
   "name": "python",
   "nbconvert_exporter": "python",
   "pygments_lexer": "ipython3",
   "version": "3.6.4"
  }
 },
 "nbformat": 4,
 "nbformat_minor": 2
}
