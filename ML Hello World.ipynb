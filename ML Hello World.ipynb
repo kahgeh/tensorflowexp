{
 "cells": [
  {
   "cell_type": "markdown",
   "metadata": {},
   "source": [
    "The mnist digit recognition is the very first algorithm to write for machine learning"
   ]
  },
  {
   "cell_type": "code",
   "execution_count": 1,
   "metadata": {},
   "outputs": [
    {
     "name": "stderr",
     "output_type": "stream",
     "text": [
      "/usr/local/lib/python2.7/dist-packages/h5py/__init__.py:36: FutureWarning: Conversion of the second argument of issubdtype from `float` to `np.floating` is deprecated. In future, it will be treated as `np.float64 == np.dtype(float).type`.\n",
      "  from ._conv import register_converters as _register_converters\n"
     ]
    }
   ],
   "source": [
    "import tensorflow as tf\n",
    "from tensorflow.examples.tutorials.mnist import input_data\n",
    "import matplotlib.pyplot as plt\n",
    "import matplotlib.image as mpimg\n",
    "import numpy as np\n",
    "%matplotlib inline"
   ]
  },
  {
   "cell_type": "code",
   "execution_count": 2,
   "metadata": {},
   "outputs": [
    {
     "name": "stdout",
     "output_type": "stream",
     "text": [
      "Successfully downloaded train-images-idx3-ubyte.gz 9912422 bytes.\n",
      "Extracting data/mnist_data/train-images-idx3-ubyte.gz\n",
      "Successfully downloaded train-labels-idx1-ubyte.gz 28881 bytes.\n",
      "Extracting data/mnist_data/train-labels-idx1-ubyte.gz\n",
      "Successfully downloaded t10k-images-idx3-ubyte.gz 1648877 bytes.\n",
      "Extracting data/mnist_data/t10k-images-idx3-ubyte.gz\n",
      "Successfully downloaded t10k-labels-idx1-ubyte.gz 4542 bytes.\n",
      "Extracting data/mnist_data/t10k-labels-idx1-ubyte.gz\n"
     ]
    }
   ],
   "source": [
    "mnist = input_data.read_data_sets('data/mnist_data/',one_hot=True)"
   ]
  },
  {
   "cell_type": "markdown",
   "metadata": {},
   "source": [
    "See what was downloaded"
   ]
  },
  {
   "cell_type": "code",
   "execution_count": 4,
   "metadata": {},
   "outputs": [
    {
     "name": "stdout",
     "output_type": "stream",
     "text": [
      "t10k-images-idx3-ubyte.gz  train-images-idx3-ubyte.gz\r\n",
      "t10k-labels-idx1-ubyte.gz  train-labels-idx1-ubyte.gz\r\n"
     ]
    }
   ],
   "source": [
    "%ls data/mnist_data"
   ]
  },
  {
   "cell_type": "markdown",
   "metadata": {},
   "source": [
    "Access the data and see what's in it"
   ]
  },
  {
   "cell_type": "code",
   "execution_count": 5,
   "metadata": {},
   "outputs": [],
   "source": [
    "training_digits,training_labels = mnist.train.next_batch(5000)\n",
    "test_digits, test_labels = mnist.test.next_batch(200)"
   ]
  },
  {
   "cell_type": "code",
   "execution_count": 6,
   "metadata": {},
   "outputs": [
    {
     "name": "stdout",
     "output_type": "stream",
     "text": [
      "(5000, 784)\n",
      "(5000, 10)\n",
      "(array([[0., 0., 0., ..., 0., 0., 0.],\n",
      "       [0., 0., 0., ..., 0., 0., 0.],\n",
      "       [0., 0., 0., ..., 0., 0., 0.],\n",
      "       ...,\n",
      "       [0., 0., 0., ..., 0., 0., 0.],\n",
      "       [0., 0., 0., ..., 0., 0., 0.],\n",
      "       [0., 0., 0., ..., 0., 0., 0.]], dtype=float32), array([[0., 0., 1., ..., 0., 0., 0.],\n",
      "       [0., 1., 0., ..., 0., 0., 0.],\n",
      "       [0., 0., 1., ..., 0., 0., 0.],\n",
      "       ...,\n",
      "       [0., 0., 0., ..., 0., 0., 0.],\n",
      "       [0., 1., 0., ..., 0., 0., 0.],\n",
      "       [0., 0., 0., ..., 0., 1., 0.]]))\n"
     ]
    }
   ],
   "source": [
    "print(training_digits.shape)\n",
    "print(training_labels.shape)\n",
    "print(training_digits,training_labels)\n"
   ]
  },
  {
   "cell_type": "markdown",
   "metadata": {},
   "source": [
    "These data will be used as inputs to the model , so let's create placeholders for them, as well as :\n",
    "1. Define the cost\n",
    "2. Create optimizer, that  minimizes this cost\n",
    "3. Batch up the training set and looping through it, while fitting the parameters W and b by running the optimizer"
   ]
  },
  {
   "cell_type": "code",
   "execution_count": 9,
   "metadata": {},
   "outputs": [
    {
     "name": "stdout",
     "output_type": "stream",
     "text": [
      "Extracting data/mnist_data/train-images-idx3-ubyte.gz\n",
      "Extracting data/mnist_data/train-labels-idx1-ubyte.gz\n",
      "Extracting data/mnist_data/t10k-images-idx3-ubyte.gz\n",
      "Extracting data/mnist_data/t10k-labels-idx1-ubyte.gz\n",
      "Optimization Finished!\n",
      "('Train Accuracy:', 0.9048909)\n",
      "('Test Accuracy:', 0.909)\n",
      "The recognized digit is [0]\n"
     ]
    },
    {
     "data": {
      "image/png": "[encoded data removed]",
      "text/plain": [
       "<matplotlib.figure.Figure at 0x7f9c8c5fd5d0>"
      ]
     },
     "metadata": {},
     "output_type": "display_data"
    }
   ],
   "source": [
    "\n",
    "learning_rate=0.01\n",
    "batch_size=100\n",
    "display_step = 1\n",
    "mnist = input_data.read_data_sets('data/mnist_data/',one_hot=True)\n",
    "\n",
    "X=tf.placeholder(dtype=tf.float32,shape=[None,784], name='X')\n",
    "Y=tf.placeholder(dtype=tf.float32,shape=[None,10], name='Y')\n",
    "\n",
    "W = tf.Variable(tf.zeros([784,10]),name='W')\n",
    "b= tf.Variable(tf.zeros([10]),name='b')\n",
    "\n",
    "\n",
    "Z=tf.matmul(X,W) +b\n",
    "A=tf.nn.softmax(Z)\n",
    "\n",
    "cost = tf.reduce_mean(-tf.reduce_sum(Y*tf.log(A)))\n",
    "train_step = tf.train.GradientDescentOptimizer(learning_rate).minimize(cost)\n",
    "\n",
    "init = tf.global_variables_initializer()\n",
    "\n",
    "with tf.Session() as sess:\n",
    "    sess.run(init)\n",
    "    batch_index=0\n",
    "    total_batch = int(mnist.train.num_examples/batch_size)\n",
    "    for i in range(total_batch):\n",
    "        batch_xs, batch_ys = mnist.train.next_batch(batch_size)\n",
    "        _, batch_cost = sess.run([train_step, cost], feed_dict={X:batch_xs,Y:batch_ys}) \n",
    "        batch_index +=1\n",
    "        #print(\"Batch:\", '%04d' % (batch_index), \"cost=\", \"{:.9f}\".format(batch_cost))                        \n",
    "    print(\"Optimization Finished!\")     \n",
    "    \n",
    "    # Test model\n",
    "    correct_prediction = tf.equal(tf.argmax(A, 1), tf.argmax(Y, 1))\n",
    "    # Calculate accuracy\n",
    "    accuracy = tf.reduce_mean(tf.cast(correct_prediction, tf.float32))\n",
    "\n",
    "    print(\"Train Accuracy:\", accuracy.eval({X: mnist.train.images, Y: mnist.train.labels}))\n",
    "    print(\"Test Accuracy:\", accuracy.eval({X: mnist.test.images, Y: mnist.test.labels}))\n",
    "    \n",
    "    image=mnist.train.images[600]\n",
    "    result=sess.run(tf.argmax(A,axis=1),feed_dict={X:image.reshape(1,784)})\n",
    "    print(\"The recognized digit is {}\".format(result))\n",
    "    plt.imshow(image.reshape(28,28))\n",
    "    \n",
    "writer = tf.summary.FileWriter('./tbout/mnist1',sess.graph)\n",
    "writer.close()                "
   ]
  },
  {
   "cell_type": "markdown",
   "metadata": {},
   "source": [
    "# Cross Entropy Cost Function\n",
    "\n",
    "We've got to abandon the Mean Squared cost function because it slows down learning. We want a cost function that that learns quickly when the model is a lot wrong and slows down when the model is not that wrong\n",
    "\n",
    "Here's the best explaination for this - \n",
    "\n",
    "http://neuralnetworksanddeeplearning.com/chap3.html#the_cross-entropy_cost_function\n",
    "\n",
    "Entropy - disorder, uncertainty. If there is no uncertainty there is no information, e.g. if it always is sunny, if the weather forecast says it's sunny - there is not much information gained from it. \n",
    "    \n",
    "    `Entropy = amount of information.`  \n",
    " \n",
    "\n",
    "\n",
    "E.g. \n",
    "\n",
    "Assuming a known distribution of AB - 100% A and 0% B, how much information do you get when I tell you it's A?\n",
    "    \n",
    "    You've always know it'll be A because the distribution is 100% A, so it's not a surprise it's A, therefore you get 0 bit of information\n",
    "    \n",
    "    \n",
    "Assuming a known distribution of AB - 50% A and 50% B, how much information do you get when I tell you it's A?\n",
    "    \n",
    "    It could have be A or B - if I predicted it I could only gotten it right half the time - I've got to ask one question before I am certain ( is it A or B ). So I've got 1 bit of information \n",
    "        \n",
    "    \n",
    "Assuming a known distribution of ABC&D - 25% of A, 25% of B, 25% of C and 25% D, \n",
    "    \n",
    "    I could only have get a right outcome for sure after 2 questions, e.g. \n",
    "    \n",
    "    1-Is it A or B? \n",
    "        Yes - is it A? \n",
    "              Yes - it's A \n",
    "              No - it's B\n",
    "        No - is it C?\n",
    "             Yes - it's C\n",
    "             No - it's D\n",
    "             \n",
    "    I get 2 bit of information.\n",
    "    \n",
    "Assuming a know weather distribution of 75% sunny and 25% rainy,\n",
    "\n",
    "    When it's forecasted that it's going to rain tomorrow, my uncertainty has been reduced by a factor of 4(1/0.25) or I get 2 bit of information also give by log2 4 or -log2 p\n",
    "  \n",
    "What is the amount information you'll get from the weather forecast on average ?\n",
    "\n",
    "    -0.25*log2(0.25)-0.75log2(0.75)=0.81\n",
    "\n",
    "This is entropy, in general the entropy is, \n",
    "    \n",
    "    `H(p)=-np.sum(p*np.log2(p))`\n",
    "\n",
    "It's a measure of average information received or the unpredictability of the probablity distribution\n",
    "\n",
    "Cross entropy refers to the entropy calculated using the true distribution and the predicted distribution :\n",
    "\n",
    "    `H(p,q)=-np.sum(p*np.log2(q))` - p - true distribution and q - predicted distribution\n",
    "    \n",
    "https://www.youtube.com/watch?v=ErfnhcEV1O8"
   ]
  },
  {
   "cell_type": "markdown",
   "metadata": {},
   "source": [
    "# Saving the parameters ( variables in tensorflow )\n",
    "\n",
    "We'd want to be able to save the parameters and then use them for predictions, so let's train the model and save it here\n"
   ]
  },
  {
   "cell_type": "code",
   "execution_count": 8,
   "metadata": {},
   "outputs": [
    {
     "name": "stdout",
     "output_type": "stream",
     "text": [
      "Extracting data/mnist_data/train-images-idx3-ubyte.gz\n",
      "Extracting data/mnist_data/train-labels-idx1-ubyte.gz\n",
      "Extracting data/mnist_data/t10k-images-idx3-ubyte.gz\n",
      "Extracting data/mnist_data/t10k-labels-idx1-ubyte.gz\n"
     ]
    },
    {
     "ename": "MemoryError",
     "evalue": "",
     "output_type": "error",
     "traceback": [
      "\u001b[0;31m---------------------------------------------------------------------------\u001b[0m",
      "\u001b[0;31mMemoryError\u001b[0m                               Traceback (most recent call last)",
      "\u001b[0;32m<ipython-input-8-cf4bd8b2e139>\u001b[0m in \u001b[0;36m<module>\u001b[0;34m()\u001b[0m\n\u001b[1;32m     11\u001b[0m \u001b[0mZ\u001b[0m\u001b[0;34m=\u001b[0m\u001b[0mtf\u001b[0m\u001b[0;34m.\u001b[0m\u001b[0mmatmul\u001b[0m\u001b[0;34m(\u001b[0m\u001b[0mX\u001b[0m\u001b[0;34m,\u001b[0m\u001b[0mW\u001b[0m\u001b[0;34m)\u001b[0m \u001b[0;34m+\u001b[0m\u001b[0mb\u001b[0m\u001b[0;34m\u001b[0m\u001b[0m\n\u001b[1;32m     12\u001b[0m \u001b[0mA\u001b[0m\u001b[0;34m=\u001b[0m\u001b[0mtf\u001b[0m\u001b[0;34m.\u001b[0m\u001b[0mnn\u001b[0m\u001b[0;34m.\u001b[0m\u001b[0msoftmax\u001b[0m\u001b[0;34m(\u001b[0m\u001b[0mZ\u001b[0m\u001b[0;34m)\u001b[0m\u001b[0;34m\u001b[0m\u001b[0m\n\u001b[0;32m---> 13\u001b[0;31m \u001b[0mmnist\u001b[0m \u001b[0;34m=\u001b[0m \u001b[0minput_data\u001b[0m\u001b[0;34m.\u001b[0m\u001b[0mread_data_sets\u001b[0m\u001b[0;34m(\u001b[0m\u001b[0;34m'data/mnist_data/'\u001b[0m\u001b[0;34m,\u001b[0m\u001b[0mone_hot\u001b[0m\u001b[0;34m=\u001b[0m\u001b[0;32mTrue\u001b[0m\u001b[0;34m)\u001b[0m\u001b[0;34m\u001b[0m\u001b[0m\n\u001b[0m\u001b[1;32m     14\u001b[0m \u001b[0;34m\u001b[0m\u001b[0m\n\u001b[1;32m     15\u001b[0m \u001b[0mcost\u001b[0m \u001b[0;34m=\u001b[0m \u001b[0mtf\u001b[0m\u001b[0;34m.\u001b[0m\u001b[0mreduce_mean\u001b[0m\u001b[0;34m(\u001b[0m\u001b[0;34m-\u001b[0m\u001b[0mtf\u001b[0m\u001b[0;34m.\u001b[0m\u001b[0mreduce_sum\u001b[0m\u001b[0;34m(\u001b[0m\u001b[0mY\u001b[0m\u001b[0;34m*\u001b[0m\u001b[0mtf\u001b[0m\u001b[0;34m.\u001b[0m\u001b[0mlog\u001b[0m\u001b[0;34m(\u001b[0m\u001b[0mA\u001b[0m\u001b[0;34m)\u001b[0m\u001b[0;34m,\u001b[0m \u001b[0maxis\u001b[0m\u001b[0;34m=\u001b[0m\u001b[0;34m-\u001b[0m\u001b[0;36m1\u001b[0m\u001b[0;34m)\u001b[0m\u001b[0;34m)\u001b[0m\u001b[0;34m\u001b[0m\u001b[0m\n",
      "\u001b[0;32m/usr/lib/python3.6/site-packages/tensorflow/contrib/learn/python/learn/datasets/mnist.py\u001b[0m in \u001b[0;36mread_data_sets\u001b[0;34m(train_dir, fake_data, one_hot, dtype, reshape, validation_size, seed, source_url)\u001b[0m\n\u001b[1;32m    270\u001b[0m   \u001b[0moptions\u001b[0m \u001b[0;34m=\u001b[0m \u001b[0mdict\u001b[0m\u001b[0;34m(\u001b[0m\u001b[0mdtype\u001b[0m\u001b[0;34m=\u001b[0m\u001b[0mdtype\u001b[0m\u001b[0;34m,\u001b[0m \u001b[0mreshape\u001b[0m\u001b[0;34m=\u001b[0m\u001b[0mreshape\u001b[0m\u001b[0;34m,\u001b[0m \u001b[0mseed\u001b[0m\u001b[0;34m=\u001b[0m\u001b[0mseed\u001b[0m\u001b[0;34m)\u001b[0m\u001b[0;34m\u001b[0m\u001b[0m\n\u001b[1;32m    271\u001b[0m \u001b[0;34m\u001b[0m\u001b[0m\n\u001b[0;32m--> 272\u001b[0;31m   \u001b[0mtrain\u001b[0m \u001b[0;34m=\u001b[0m \u001b[0mDataSet\u001b[0m\u001b[0;34m(\u001b[0m\u001b[0mtrain_images\u001b[0m\u001b[0;34m,\u001b[0m \u001b[0mtrain_labels\u001b[0m\u001b[0;34m,\u001b[0m \u001b[0;34m**\u001b[0m\u001b[0moptions\u001b[0m\u001b[0;34m)\u001b[0m\u001b[0;34m\u001b[0m\u001b[0m\n\u001b[0m\u001b[1;32m    273\u001b[0m   \u001b[0mvalidation\u001b[0m \u001b[0;34m=\u001b[0m \u001b[0mDataSet\u001b[0m\u001b[0;34m(\u001b[0m\u001b[0mvalidation_images\u001b[0m\u001b[0;34m,\u001b[0m \u001b[0mvalidation_labels\u001b[0m\u001b[0;34m,\u001b[0m \u001b[0;34m**\u001b[0m\u001b[0moptions\u001b[0m\u001b[0;34m)\u001b[0m\u001b[0;34m\u001b[0m\u001b[0m\n\u001b[1;32m    274\u001b[0m   \u001b[0mtest\u001b[0m \u001b[0;34m=\u001b[0m \u001b[0mDataSet\u001b[0m\u001b[0;34m(\u001b[0m\u001b[0mtest_images\u001b[0m\u001b[0;34m,\u001b[0m \u001b[0mtest_labels\u001b[0m\u001b[0;34m,\u001b[0m \u001b[0;34m**\u001b[0m\u001b[0moptions\u001b[0m\u001b[0;34m)\u001b[0m\u001b[0;34m\u001b[0m\u001b[0m\n",
      "\u001b[0;32m/usr/lib/python3.6/site-packages/tensorflow/contrib/learn/python/learn/datasets/mnist.py\u001b[0m in \u001b[0;36m__init__\u001b[0;34m(self, images, labels, fake_data, one_hot, dtype, reshape, seed)\u001b[0m\n\u001b[1;32m    143\u001b[0m         \u001b[0;31m# Convert from [0, 255] -> [0.0, 1.0].\u001b[0m\u001b[0;34m\u001b[0m\u001b[0;34m\u001b[0m\u001b[0m\n\u001b[1;32m    144\u001b[0m         \u001b[0mimages\u001b[0m \u001b[0;34m=\u001b[0m \u001b[0mimages\u001b[0m\u001b[0;34m.\u001b[0m\u001b[0mastype\u001b[0m\u001b[0;34m(\u001b[0m\u001b[0mnumpy\u001b[0m\u001b[0;34m.\u001b[0m\u001b[0mfloat32\u001b[0m\u001b[0;34m)\u001b[0m\u001b[0;34m\u001b[0m\u001b[0m\n\u001b[0;32m--> 145\u001b[0;31m         \u001b[0mimages\u001b[0m \u001b[0;34m=\u001b[0m \u001b[0mnumpy\u001b[0m\u001b[0;34m.\u001b[0m\u001b[0mmultiply\u001b[0m\u001b[0;34m(\u001b[0m\u001b[0mimages\u001b[0m\u001b[0;34m,\u001b[0m \u001b[0;36m1.0\u001b[0m \u001b[0;34m/\u001b[0m \u001b[0;36m255.0\u001b[0m\u001b[0;34m)\u001b[0m\u001b[0;34m\u001b[0m\u001b[0m\n\u001b[0m\u001b[1;32m    146\u001b[0m     \u001b[0mself\u001b[0m\u001b[0;34m.\u001b[0m\u001b[0m_images\u001b[0m \u001b[0;34m=\u001b[0m \u001b[0mimages\u001b[0m\u001b[0;34m\u001b[0m\u001b[0m\n\u001b[1;32m    147\u001b[0m     \u001b[0mself\u001b[0m\u001b[0;34m.\u001b[0m\u001b[0m_labels\u001b[0m \u001b[0;34m=\u001b[0m \u001b[0mlabels\u001b[0m\u001b[0;34m\u001b[0m\u001b[0m\n",
      "\u001b[0;31mMemoryError\u001b[0m: "
     ]
    }
   ],
   "source": [
    "tf.reset_default_graph()\n",
    "learning_rate=0.01\n",
    "batch_size=100\n",
    "display_step = 1\n",
    "X=tf.placeholder(dtype=tf.float32,shape=[None,784], name='X')\n",
    "Y=tf.placeholder(dtype=tf.float32,shape=[None,10], name='Y')\n",
    "\n",
    "W = tf.Variable(tf.zeros([784,10]),name='W')\n",
    "b= tf.Variable(tf.zeros([10]),name='b')\n",
    "\n",
    "Z=tf.matmul(X,W) +b\n",
    "A=tf.nn.softmax(Z)\n",
    "mnist = input_data.read_data_sets('data/mnist_data/',one_hot=True)\n",
    "\n",
    "cost = tf.reduce_mean(-tf.reduce_sum(Y*tf.log(A), axis=-1))\n",
    "\n",
    "train_step = tf.train.GradientDescentOptimizer(learning_rate).minimize(cost)\n",
    "\n",
    "init = tf.global_variables_initializer()\n",
    "\n",
    "with tf.Session() as sess:\n",
    "    sess.run(init)\n",
    "    batch_index=0\n",
    "    total_batch = int(mnist.train.num_examples/batch_size)\n",
    "    for i in range(total_batch):\n",
    "        batch_xs, batch_ys = mnist.train.next_batch(batch_size)\n",
    "        _, batch_cost = sess.run([train_step, cost], feed_dict={X:batch_xs,Y:batch_ys}) \n",
    "        batch_index +=1\n",
    "        #print(\"Batch:\", '%04d' % (batch_index), \"cost=\", \"{:.9f}\".format(batch_cost))                        \n",
    "            \n",
    "    print(\"Optimization Finished!\")     \n",
    "   \n",
    "    # Test model\n",
    "    correct_prediction = tf.equal(tf.argmax(A, 1), tf.argmax(Y, 1))\n",
    "    # Calculate accuracy\n",
    "    accuracy = tf.reduce_mean(tf.cast(correct_prediction, tf.float32))\n",
    "    \n",
    "    print(\"Train Accuracy:\", accuracy.eval({X: mnist.train.images, Y: mnist.train.labels}))\n",
    "    print(\"Test Accuracy:\", accuracy.eval({X: mnist.test.images, Y: mnist.test.labels}))\n",
    "    saver = tf.train.Saver() \n",
    "    model_path=saver.save(sess, \"./tbout/models/model.ckpt\")\n",
    "    print ( 'Saving model to {}'.format(model_path) )\n",
    "    \n",
    "writer = tf.summary.FileWriter('./tbout/mnist2',sess.graph)\n",
    "writer.close()    "
   ]
  },
  {
   "cell_type": "markdown",
   "metadata": {},
   "source": [
    "Now let's retrieve it and use it for prediction"
   ]
  },
  {
   "cell_type": "code",
   "execution_count": 11,
   "metadata": {},
   "outputs": [
    {
     "name": "stdout",
     "output_type": "stream",
     "text": [
      "INFO:tensorflow:Restoring parameters from ./tbout/models/model.ckpt\n",
      "[-0.03748076  0.08087784 -0.01937952 -0.0207708   0.01952291  0.02983976\n",
      " -0.01153679  0.03211228 -0.06757122 -0.00561367]\n",
      "The recognized digit is [0]\n"
     ]
    },
    {
     "data": {
      "image/png": "[encoded data removed]",
      "text/plain": [
       "<Figure size 432x288 with 1 Axes>"
      ]
     },
     "metadata": {},
     "output_type": "display_data"
    }
   ],
   "source": [
    "tf.reset_default_graph()\n",
    "W = tf.get_variable(\"W\", shape=[784,10])\n",
    "b = tf.get_variable(\"b\", shape=[10])\n",
    "X=tf.placeholder(dtype=tf.float32,shape=[None,784], name='X')\n",
    "Y=tf.placeholder(dtype=tf.float32,shape=[None,10], name='Y')\n",
    "init = tf.global_variables_initializer()\n",
    "with tf.Session() as sess:\n",
    "    sess.run(init)\n",
    "    saver = tf.train.Saver() \n",
    "    saver.restore(sess, \"./tbout/models/model.ckpt\")\n",
    "\n",
    "    print(b.eval())\n",
    "\n",
    "    Z=tf.matmul(X,W) +b\n",
    "    A=tf.nn.softmax(Z)\n",
    "\n",
    "    image=mnist.train.images[600]\n",
    "    result=sess.run(tf.argmax(A,axis=1),feed_dict={X:image.reshape(1,784)})\n",
    "    print(\"The recognized digit is {}\".format(result))\n",
    "    plt.imshow(image.reshape(28,28))\n"
   ]
  },
  {
   "cell_type": "code",
   "execution_count": null,
   "metadata": {},
   "outputs": [],
   "source": []
  }
 ],
 "metadata": {
  "kernelspec": {
   "display_name": "Python 2",
   "language": "python",
   "name": "python2"
  },
  "language_info": {
   "codemirror_mode": {
    "name": "ipython",
    "version": 2
   },
   "file_extension": ".py",
   "mimetype": "text/x-python",
   "name": "python",
   "nbconvert_exporter": "python",
   "pygments_lexer": "ipython2",
   "version": "2.7.12"
  }
 },
 "nbformat": 4,
 "nbformat_minor": 2
}
