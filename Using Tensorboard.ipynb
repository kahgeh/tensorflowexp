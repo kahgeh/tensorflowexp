{
 "cells": [
  {
   "cell_type": "markdown",
   "metadata": {},
   "source": [
    "Basic Tensorboard Graph from mnist example 1 \n",
    "\n",
    "![alt text](initial.png \"Basic Tensorboard Graph\")"
   ]
  },
  {
   "cell_type": "code",
   "execution_count": 1,
   "metadata": {},
   "outputs": [
    {
     "name": "stderr",
     "output_type": "stream",
     "text": [
      "/usr/local/lib/python2.7/dist-packages/h5py/__init__.py:36: FutureWarning: Conversion of the second argument of issubdtype from `float` to `np.floating` is deprecated. In future, it will be treated as `np.float64 == np.dtype(float).type`.\n",
      "  from ._conv import register_converters as _register_converters\n"
     ]
    }
   ],
   "source": [
    "import tensorflow as tf\n",
    "from tensorflow.examples.tutorials.mnist import input_data\n",
    "import matplotlib.pyplot as plt\n",
    "import matplotlib.image as mpimg\n",
    "import numpy as np\n",
    "%matplotlib inline"
   ]
  },
  {
   "cell_type": "code",
   "execution_count": 2,
   "metadata": {},
   "outputs": [
    {
     "name": "stdout",
     "output_type": "stream",
     "text": [
      "Extracting data/mnist_data/train-images-idx3-ubyte.gz\n",
      "Extracting data/mnist_data/train-labels-idx1-ubyte.gz\n",
      "Extracting data/mnist_data/t10k-images-idx3-ubyte.gz\n",
      "Extracting data/mnist_data/t10k-labels-idx1-ubyte.gz\n",
      "Optimization Finished!\n",
      "<tf.Variable 'parameter_W_and_b_initialization/W:0' shape=(784, 10) dtype=float32_ref>\n",
      "<tf.Variable 'parameter_W_and_b_initialization/b:0' shape=(10,) dtype=float32_ref>\n",
      "('Train Accuracy:', 0.8424909)\n",
      "('Test Accuracy:', 0.8531)\n",
      "The recognized digit is [1]\n"
     ]
    },
    {
     "data": {
      "image/png": "[encoded data removed]",
      "text/plain": [
       "<matplotlib.figure.Figure at 0x7f3091787fd0>"
      ]
     },
     "metadata": {},
     "output_type": "display_data"
    }
   ],
   "source": [
    "\n",
    "learning_rate=0.01\n",
    "batch_size=100\n",
    "display_step = 1\n",
    "mnist = input_data.read_data_sets('data/mnist_data/',one_hot=True)\n",
    "\n",
    "X=tf.placeholder(dtype=tf.float32,shape=[None,784], name='X')\n",
    "Y=tf.placeholder(dtype=tf.float32,shape=[None,10], name='Y')\n",
    "\n",
    "with tf.name_scope('parameter_W_and_b_initialization'):\n",
    "    W = tf.Variable(tf.zeros([784,10]),name='W')\n",
    "    b= tf.Variable(tf.zeros([10]),name='b')\n",
    "\n",
    "with tf.name_scope('linear'):\n",
    "    Z=tf.matmul(X,W) +b\n",
    "\n",
    "with tf.name_scope('predict'):\n",
    "    A=tf.nn.softmax(Z)\n",
    "\n",
    "with tf.name_scope('cost'):\n",
    "    cost = tf.reduce_mean(-tf.reduce_sum(Y*tf.log(A), axis=-1))\n",
    "\n",
    "with tf.name_scope('train'):    \n",
    "    train_step = tf.train.GradientDescentOptimizer(learning_rate).minimize(cost)\n",
    "\n",
    "init = tf.global_variables_initializer()\n",
    "\n",
    "with tf.Session() as sess:\n",
    "    sess.run(init)\n",
    "    batch_index=0\n",
    "    total_batch = int(mnist.train.num_examples/batch_size)\n",
    "    with tf.name_scope('fit_with_training_data'):\n",
    "        for i in range(total_batch):\n",
    "            batch_xs, batch_ys = mnist.train.next_batch(batch_size)\n",
    "            _, batch_cost = sess.run([train_step, cost], feed_dict={X:batch_xs,Y:batch_ys}) \n",
    "            batch_index +=1\n",
    "        #print(\"Batch:\", '%04d' % (batch_index), \"cost=\", \"{:.9f}\".format(batch_cost))                        \n",
    "            \n",
    "    print(\"Optimization Finished!\")     \n",
    "    print(str(W))\n",
    "    print(str(b))\n",
    "    \n",
    "    with tf.name_scope('calculate_accuracy'):\n",
    "        # Test model\n",
    "        correct_prediction = tf.equal(tf.argmax(A, 1), tf.argmax(Y, 1))\n",
    "        # Calculate accuracy\n",
    "        accuracy = tf.reduce_mean(tf.cast(correct_prediction, tf.float32))\n",
    "\n",
    "        print(\"Train Accuracy:\", accuracy.eval({X: mnist.train.images, Y: mnist.train.labels}))\n",
    "        print(\"Test Accuracy:\", accuracy.eval({X: mnist.test.images, Y: mnist.test.labels}))\n",
    "    \n",
    "    with tf.name_scope('single_image_test'):\n",
    "        image=mnist.train.images[600]\n",
    "        result=sess.run(tf.argmax(A,axis=1),feed_dict={X:image.reshape(1,784)})\n",
    "        print(\"The recognized digit is {}\".format(result))\n",
    "        plt.imshow(image.reshape(28,28))\n",
    "    \n",
    "writer = tf.summary.FileWriter('./tbout/mnistBetterLogging',sess.graph)\n",
    "writer.close()    "
   ]
  },
  {
   "cell_type": "markdown",
   "metadata": {},
   "source": [
    "Improvement using named scope\n",
    "\n",
    "![alt text](namescope.png \"Improve Graph using name scope\")"
   ]
  },
  {
   "cell_type": "code",
   "execution_count": null,
   "metadata": {},
   "outputs": [],
   "source": []
  }
 ],
 "metadata": {
  "kernelspec": {
   "display_name": "Python 2",
   "language": "python",
   "name": "python2"
  },
  "language_info": {
   "codemirror_mode": {
    "name": "ipython",
    "version": 2
   },
   "file_extension": ".py",
   "mimetype": "text/x-python",
   "name": "python",
   "nbconvert_exporter": "python",
   "pygments_lexer": "ipython2",
   "version": "2.7.12"
  }
 },
 "nbformat": 4,
 "nbformat_minor": 2
}
